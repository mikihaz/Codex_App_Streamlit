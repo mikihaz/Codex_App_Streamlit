{
 "cells": [
  {
   "cell_type": "code",
   "execution_count": 3,
   "metadata": {},
   "outputs": [],
   "source": [
    "import config"
   ]
  },
  {
   "cell_type": "code",
   "execution_count": 5,
   "metadata": {},
   "outputs": [
    {
     "ename": "KeyError",
     "evalue": "'miki'",
     "output_type": "error",
     "traceback": [
      "\u001b[1;31m---------------------------------------------------------------------------\u001b[0m",
      "\u001b[1;31mKeyError\u001b[0m                                  Traceback (most recent call last)",
      "\u001b[1;32mc:\\Users\\soumi\\Documents\\Codex_App_Streamlit\\testing.ipynb Cell 2'\u001b[0m in \u001b[0;36m<cell line: 2>\u001b[1;34m()\u001b[0m\n\u001b[0;32m      <a href='vscode-notebook-cell:/c%3A/Users/soumi/Documents/Codex_App_Streamlit/testing.ipynb#ch0000000?line=0'>1</a>\u001b[0m username \u001b[39m=\u001b[39m \u001b[39m'\u001b[39m\u001b[39mmiki\u001b[39m\u001b[39m'\u001b[39m\n\u001b[1;32m----> <a href='vscode-notebook-cell:/c%3A/Users/soumi/Documents/Codex_App_Streamlit/testing.ipynb#ch0000000?line=1'>2</a>\u001b[0m \u001b[39mif\u001b[39;00m config\u001b[39m.\u001b[39;49mloginCredentials[\u001b[39m'\u001b[39;49m\u001b[39mprofiles\u001b[39;49m\u001b[39m'\u001b[39;49m][username]:\n\u001b[0;32m      <a href='vscode-notebook-cell:/c%3A/Users/soumi/Documents/Codex_App_Streamlit/testing.ipynb#ch0000000?line=2'>3</a>\u001b[0m     \u001b[39mprint\u001b[39m(\u001b[39m'\u001b[39m\u001b[39mLogin Successful\u001b[39m\u001b[39m'\u001b[39m)\n",
      "\u001b[1;31mKeyError\u001b[0m: 'miki'"
     ]
    }
   ],
   "source": [
    "username = 'miki'\n",
    "if config.loginCredentials['profiles'][username]:\n",
    "    print('Login Successful')"
   ]
  },
  {
   "cell_type": "code",
   "execution_count": 12,
   "metadata": {},
   "outputs": [],
   "source": [
    "username = 'mikih@z'"
   ]
  },
  {
   "cell_type": "code",
   "execution_count": 13,
   "metadata": {},
   "outputs": [
    {
     "name": "stdout",
     "output_type": "stream",
     "text": [
      "Login Successful\n"
     ]
    }
   ],
   "source": [
    "config.loginCredentials['profiles'].keys()\n",
    "if username in config.loginCredentials['profiles'].keys():\n",
    "    print('Login Successful')"
   ]
  },
  {
   "cell_type": "code",
   "execution_count": null,
   "metadata": {},
   "outputs": [],
   "source": [
    "st.session_state['username']"
   ]
  }
 ],
 "metadata": {
  "interpreter": {
   "hash": "c540ad905a6b0f4cc428d80d76dbb27eec0a60041d739fa5650453f82c427e24"
  },
  "kernelspec": {
   "display_name": "Python 3.10.4 ('module': venv)",
   "language": "python",
   "name": "python3"
  },
  "language_info": {
   "codemirror_mode": {
    "name": "ipython",
    "version": 3
   },
   "file_extension": ".py",
   "mimetype": "text/x-python",
   "name": "python",
   "nbconvert_exporter": "python",
   "pygments_lexer": "ipython3",
   "version": "3.10.4"
  },
  "orig_nbformat": 4
 },
 "nbformat": 4,
 "nbformat_minor": 2
}
